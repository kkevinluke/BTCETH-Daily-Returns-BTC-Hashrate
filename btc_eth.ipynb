{
 "cells": [
  {
   "cell_type": "code",
   "execution_count": 1,
   "metadata": {},
   "outputs": [],
   "source": [
    "import pandas as pd\n",
    "import matplotlib.pyplot as plt\n",
    "%matplotlib inline\n",
    "import requests\n",
    "from datetime import datetime as dt\n",
    "import statistics"
   ]
  },
  {
   "cell_type": "code",
   "execution_count": 2,
   "metadata": {},
   "outputs": [],
   "source": [
    "apikey=\"APIKEY\""
   ]
  },
  {
   "cell_type": "code",
   "execution_count": 3,
   "metadata": {},
   "outputs": [],
   "source": [
    "url=\"https://min-api.cryptocompare.com/data/v2/histoday?fsym=BTC&tsym=USD&limit=30\""
   ]
  },
  {
   "cell_type": "code",
   "execution_count": 4,
   "metadata": {},
   "outputs": [],
   "source": [
    "response = requests.get(url, headers={'authorization': 'Apikey{apikey}'})"
   ]
  },
  {
   "cell_type": "code",
   "execution_count": 5,
   "metadata": {},
   "outputs": [],
   "source": [
    "r = response.json()"
   ]
  },
  {
   "cell_type": "code",
   "execution_count": 6,
   "metadata": {},
   "outputs": [
    {
     "name": "stdout",
     "output_type": "stream",
     "text": [
      "{'Response': 'Success', 'Message': '', 'HasWarning': False, 'Type': 100, 'RateLimit': {}, 'Data': {'Aggregated': False, 'TimeFrom': 1644019200, 'TimeTo': 1646611200, 'Data': [{'time': 1644019200, 'high': 41954.24, 'low': 40963.47, 'open': 41590.34, 'volumefrom': 22244.16, 'volumeto': 923755180.09, 'close': 41418.21, 'conversionType': 'direct', 'conversionSymbol': ''}, {'time': 1644105600, 'high': 42671.81, 'low': 41152.05, 'open': 41418.21, 'volumefrom': 14391.14, 'volumeto': 600848486.11, 'close': 42412.41, 'conversionType': 'direct', 'conversionSymbol': ''}, {'time': 1644192000, 'high': 44518.11, 'low': 41689.77, 'open': 42412.41, 'volumefrom': 42425.21, 'volumeto': 1836978530.57, 'close': 43861.07, 'conversionType': 'direct', 'conversionSymbol': ''}, {'time': 1644278400, 'high': 45483.65, 'low': 42704.39, 'open': 43861.07, 'volumefrom': 44964.2, 'volumeto': 1972336800.82, 'close': 44080.12, 'conversionType': 'direct', 'conversionSymbol': ''}, {'time': 1644364800, 'high': 44849.9, 'low': 43167.21, 'open': 44080.12, 'volumefrom': 27461.26, 'volumeto': 1207982275.77, 'close': 44422.91, 'conversionType': 'direct', 'conversionSymbol': ''}, {'time': 1644451200, 'high': 45837.02, 'low': 43254.41, 'open': 44422.91, 'volumefrom': 45532.09, 'volumeto': 2027452816.67, 'close': 43531.67, 'conversionType': 'direct', 'conversionSymbol': ''}, {'time': 1644537600, 'high': 43950.88, 'low': 42010.61, 'open': 43531.67, 'volumefrom': 39322.02, 'volumeto': 1694547021.08, 'close': 42398.98, 'conversionType': 'direct', 'conversionSymbol': ''}, {'time': 1644624000, 'high': 43041.72, 'low': 41775.79, 'open': 42398.98, 'volumefrom': 17662.13, 'volumeto': 747480841.84, 'close': 42239.01, 'conversionType': 'direct', 'conversionSymbol': ''}, {'time': 1644710400, 'high': 42773.35, 'low': 41900.31, 'open': 42239.01, 'volumefrom': 12420.62, 'volumeto': 525779246, 'close': 42069.84, 'conversionType': 'direct', 'conversionSymbol': ''}, {'time': 1644796800, 'high': 42857.15, 'low': 41581.41, 'open': 42069.84, 'volumefrom': 27975.8, 'volumeto': 1183004344.86, 'close': 42552.28, 'conversionType': 'direct', 'conversionSymbol': ''}, {'time': 1644883200, 'high': 44771.91, 'low': 42452.02, 'open': 42552.28, 'volumefrom': 27548.28, 'volumeto': 1210638166.2, 'close': 44576.33, 'conversionType': 'direct', 'conversionSymbol': ''}, {'time': 1644969600, 'high': 44583.03, 'low': 43361.09, 'open': 44576.33, 'volumefrom': 20597.85, 'volumeto': 905511530.54, 'close': 43896.34, 'conversionType': 'direct', 'conversionSymbol': ''}, {'time': 1645056000, 'high': 44187.88, 'low': 40104.04, 'open': 43896.34, 'volumefrom': 39645.29, 'volumeto': 1669164372.28, 'close': 40545.09, 'conversionType': 'direct', 'conversionSymbol': ''}, {'time': 1645142400, 'high': 40980.65, 'low': 39496.7, 'open': 40545.09, 'volumefrom': 32514.79, 'volumeto': 1308787736.51, 'close': 39994.66, 'conversionType': 'direct', 'conversionSymbol': ''}, {'time': 1645228800, 'high': 40464.62, 'low': 39664.71, 'open': 39994.66, 'volumefrom': 11674.81, 'volumeto': 467744109.72, 'close': 40107.12, 'conversionType': 'direct', 'conversionSymbol': ''}, {'time': 1645315200, 'high': 40142.98, 'low': 38019.97, 'open': 40107.12, 'volumefrom': 23028.66, 'volumeto': 890707081.68, 'close': 38397.25, 'conversionType': 'direct', 'conversionSymbol': ''}, {'time': 1645401600, 'high': 39495.33, 'low': 36862.52, 'open': 38397.25, 'volumefrom': 47549.32, 'volumeto': 1819938918.66, 'close': 37037.39, 'conversionType': 'direct', 'conversionSymbol': ''}, {'time': 1645488000, 'high': 38458.26, 'low': 36371.68, 'open': 37037.39, 'volumefrom': 42886.39, 'volumeto': 1605539398.15, 'close': 38267.75, 'conversionType': 'direct', 'conversionSymbol': ''}, {'time': 1645574400, 'high': 39260.51, 'low': 37083.83, 'open': 38267.75, 'volumefrom': 31850.78, 'volumeto': 1218156854.61, 'close': 37270.85, 'conversionType': 'direct', 'conversionSymbol': ''}, {'time': 1645660800, 'high': 39182.44, 'low': 34349.58, 'open': 37270.85, 'volumefrom': 93348.71, 'volumeto': 3367553842.97, 'close': 38353.62, 'conversionType': 'direct', 'conversionSymbol': ''}, {'time': 1645747200, 'high': 39710.26, 'low': 38043.51, 'open': 38353.62, 'volumefrom': 39454.29, 'volumeto': 1536575836.24, 'close': 39239.77, 'conversionType': 'direct', 'conversionSymbol': ''}, {'time': 1645833600, 'high': 40228.13, 'low': 38605.65, 'open': 39239.77, 'volumefrom': 18649.99, 'volumeto': 732995982.54, 'close': 39134.83, 'conversionType': 'direct', 'conversionSymbol': ''}, {'time': 1645920000, 'high': 39861.91, 'low': 37039.71, 'open': 39134.83, 'volumefrom': 30834.07, 'volumeto': 1184510440.64, 'close': 37714.96, 'conversionType': 'direct', 'conversionSymbol': ''}, {'time': 1646006400, 'high': 43953.92, 'low': 37473.3, 'open': 37714.96, 'volumefrom': 55323.43, 'volumeto': 2231772118.95, 'close': 43189.46, 'conversionType': 'direct', 'conversionSymbol': ''}, {'time': 1646092800, 'high': 44883.1, 'low': 42893.5, 'open': 43189.46, 'volumefrom': 48462.11, 'volumeto': 2121207162.06, 'close': 44428.47, 'conversionType': 'direct', 'conversionSymbol': ''}, {'time': 1646179200, 'high': 45069.78, 'low': 43387.92, 'open': 44428.47, 'volumefrom': 37389.51, 'volumeto': 1652867992.22, 'close': 43935.37, 'conversionType': 'direct', 'conversionSymbol': ''}, {'time': 1646265600, 'high': 44079.17, 'low': 41852.46, 'open': 43935.37, 'volumefrom': 36512.65, 'volumeto': 1565020513.9, 'close': 42474.37, 'conversionType': 'direct', 'conversionSymbol': ''}, {'time': 1646352000, 'high': 42520.95, 'low': 38621.24, 'open': 42474.37, 'volumefrom': 50126.39, 'volumeto': 2043287977.87, 'close': 39154.4, 'conversionType': 'direct', 'conversionSymbol': ''}, {'time': 1646438400, 'high': 39596.42, 'low': 38652.98, 'open': 39154.4, 'volumefrom': 15938.79, 'volumeto': 624289503.91, 'close': 39407.02, 'conversionType': 'direct', 'conversionSymbol': ''}, {'time': 1646524800, 'high': 39686.74, 'low': 38133.84, 'open': 39407.02, 'volumefrom': 21034.62, 'volumeto': 818379145.11, 'close': 38428.92, 'conversionType': 'direct', 'conversionSymbol': ''}, {'time': 1646611200, 'high': 38509.89, 'low': 38083.58, 'open': 38428.92, 'volumefrom': 1676.47, 'volumeto': 64241826.56, 'close': 38258.32, 'conversionType': 'direct', 'conversionSymbol': ''}]}}\n"
     ]
    }
   ],
   "source": [
    "print(r)"
   ]
  },
  {
   "cell_type": "code",
   "execution_count": 7,
   "metadata": {},
   "outputs": [],
   "source": [
    "r = r[\"Data\"][\"Data\"]"
   ]
  },
  {
   "cell_type": "code",
   "execution_count": 8,
   "metadata": {},
   "outputs": [],
   "source": [
    "df = pd.DataFrame(r)"
   ]
  },
  {
   "cell_type": "code",
   "execution_count": 9,
   "metadata": {},
   "outputs": [
    {
     "data": {
      "text/html": [
       "<div>\n",
       "<style scoped>\n",
       "    .dataframe tbody tr th:only-of-type {\n",
       "        vertical-align: middle;\n",
       "    }\n",
       "\n",
       "    .dataframe tbody tr th {\n",
       "        vertical-align: top;\n",
       "    }\n",
       "\n",
       "    .dataframe thead th {\n",
       "        text-align: right;\n",
       "    }\n",
       "</style>\n",
       "<table border=\"1\" class=\"dataframe\">\n",
       "  <thead>\n",
       "    <tr style=\"text-align: right;\">\n",
       "      <th></th>\n",
       "      <th>time</th>\n",
       "      <th>high</th>\n",
       "      <th>low</th>\n",
       "      <th>open</th>\n",
       "      <th>volumefrom</th>\n",
       "      <th>volumeto</th>\n",
       "      <th>close</th>\n",
       "      <th>conversionType</th>\n",
       "      <th>conversionSymbol</th>\n",
       "    </tr>\n",
       "  </thead>\n",
       "  <tbody>\n",
       "    <tr>\n",
       "      <th>0</th>\n",
       "      <td>1644019200</td>\n",
       "      <td>41954.24</td>\n",
       "      <td>40963.47</td>\n",
       "      <td>41590.34</td>\n",
       "      <td>22244.16</td>\n",
       "      <td>9.237552e+08</td>\n",
       "      <td>41418.21</td>\n",
       "      <td>direct</td>\n",
       "      <td></td>\n",
       "    </tr>\n",
       "    <tr>\n",
       "      <th>1</th>\n",
       "      <td>1644105600</td>\n",
       "      <td>42671.81</td>\n",
       "      <td>41152.05</td>\n",
       "      <td>41418.21</td>\n",
       "      <td>14391.14</td>\n",
       "      <td>6.008485e+08</td>\n",
       "      <td>42412.41</td>\n",
       "      <td>direct</td>\n",
       "      <td></td>\n",
       "    </tr>\n",
       "    <tr>\n",
       "      <th>2</th>\n",
       "      <td>1644192000</td>\n",
       "      <td>44518.11</td>\n",
       "      <td>41689.77</td>\n",
       "      <td>42412.41</td>\n",
       "      <td>42425.21</td>\n",
       "      <td>1.836979e+09</td>\n",
       "      <td>43861.07</td>\n",
       "      <td>direct</td>\n",
       "      <td></td>\n",
       "    </tr>\n",
       "    <tr>\n",
       "      <th>3</th>\n",
       "      <td>1644278400</td>\n",
       "      <td>45483.65</td>\n",
       "      <td>42704.39</td>\n",
       "      <td>43861.07</td>\n",
       "      <td>44964.20</td>\n",
       "      <td>1.972337e+09</td>\n",
       "      <td>44080.12</td>\n",
       "      <td>direct</td>\n",
       "      <td></td>\n",
       "    </tr>\n",
       "    <tr>\n",
       "      <th>4</th>\n",
       "      <td>1644364800</td>\n",
       "      <td>44849.90</td>\n",
       "      <td>43167.21</td>\n",
       "      <td>44080.12</td>\n",
       "      <td>27461.26</td>\n",
       "      <td>1.207982e+09</td>\n",
       "      <td>44422.91</td>\n",
       "      <td>direct</td>\n",
       "      <td></td>\n",
       "    </tr>\n",
       "    <tr>\n",
       "      <th>5</th>\n",
       "      <td>1644451200</td>\n",
       "      <td>45837.02</td>\n",
       "      <td>43254.41</td>\n",
       "      <td>44422.91</td>\n",
       "      <td>45532.09</td>\n",
       "      <td>2.027453e+09</td>\n",
       "      <td>43531.67</td>\n",
       "      <td>direct</td>\n",
       "      <td></td>\n",
       "    </tr>\n",
       "    <tr>\n",
       "      <th>6</th>\n",
       "      <td>1644537600</td>\n",
       "      <td>43950.88</td>\n",
       "      <td>42010.61</td>\n",
       "      <td>43531.67</td>\n",
       "      <td>39322.02</td>\n",
       "      <td>1.694547e+09</td>\n",
       "      <td>42398.98</td>\n",
       "      <td>direct</td>\n",
       "      <td></td>\n",
       "    </tr>\n",
       "    <tr>\n",
       "      <th>7</th>\n",
       "      <td>1644624000</td>\n",
       "      <td>43041.72</td>\n",
       "      <td>41775.79</td>\n",
       "      <td>42398.98</td>\n",
       "      <td>17662.13</td>\n",
       "      <td>7.474808e+08</td>\n",
       "      <td>42239.01</td>\n",
       "      <td>direct</td>\n",
       "      <td></td>\n",
       "    </tr>\n",
       "    <tr>\n",
       "      <th>8</th>\n",
       "      <td>1644710400</td>\n",
       "      <td>42773.35</td>\n",
       "      <td>41900.31</td>\n",
       "      <td>42239.01</td>\n",
       "      <td>12420.62</td>\n",
       "      <td>5.257792e+08</td>\n",
       "      <td>42069.84</td>\n",
       "      <td>direct</td>\n",
       "      <td></td>\n",
       "    </tr>\n",
       "    <tr>\n",
       "      <th>9</th>\n",
       "      <td>1644796800</td>\n",
       "      <td>42857.15</td>\n",
       "      <td>41581.41</td>\n",
       "      <td>42069.84</td>\n",
       "      <td>27975.80</td>\n",
       "      <td>1.183004e+09</td>\n",
       "      <td>42552.28</td>\n",
       "      <td>direct</td>\n",
       "      <td></td>\n",
       "    </tr>\n",
       "  </tbody>\n",
       "</table>\n",
       "</div>"
      ],
      "text/plain": [
       "         time      high       low      open  volumefrom      volumeto  \\\n",
       "0  1644019200  41954.24  40963.47  41590.34    22244.16  9.237552e+08   \n",
       "1  1644105600  42671.81  41152.05  41418.21    14391.14  6.008485e+08   \n",
       "2  1644192000  44518.11  41689.77  42412.41    42425.21  1.836979e+09   \n",
       "3  1644278400  45483.65  42704.39  43861.07    44964.20  1.972337e+09   \n",
       "4  1644364800  44849.90  43167.21  44080.12    27461.26  1.207982e+09   \n",
       "5  1644451200  45837.02  43254.41  44422.91    45532.09  2.027453e+09   \n",
       "6  1644537600  43950.88  42010.61  43531.67    39322.02  1.694547e+09   \n",
       "7  1644624000  43041.72  41775.79  42398.98    17662.13  7.474808e+08   \n",
       "8  1644710400  42773.35  41900.31  42239.01    12420.62  5.257792e+08   \n",
       "9  1644796800  42857.15  41581.41  42069.84    27975.80  1.183004e+09   \n",
       "\n",
       "      close conversionType conversionSymbol  \n",
       "0  41418.21         direct                   \n",
       "1  42412.41         direct                   \n",
       "2  43861.07         direct                   \n",
       "3  44080.12         direct                   \n",
       "4  44422.91         direct                   \n",
       "5  43531.67         direct                   \n",
       "6  42398.98         direct                   \n",
       "7  42239.01         direct                   \n",
       "8  42069.84         direct                   \n",
       "9  42552.28         direct                   "
      ]
     },
     "execution_count": 9,
     "metadata": {},
     "output_type": "execute_result"
    }
   ],
   "source": [
    "df.head(10)"
   ]
  },
  {
   "cell_type": "code",
   "execution_count": 10,
   "metadata": {},
   "outputs": [],
   "source": [
    "df=df.iloc[:,:7]"
   ]
  },
  {
   "cell_type": "code",
   "execution_count": 11,
   "metadata": {},
   "outputs": [
    {
     "data": {
      "text/html": [
       "<div>\n",
       "<style scoped>\n",
       "    .dataframe tbody tr th:only-of-type {\n",
       "        vertical-align: middle;\n",
       "    }\n",
       "\n",
       "    .dataframe tbody tr th {\n",
       "        vertical-align: top;\n",
       "    }\n",
       "\n",
       "    .dataframe thead th {\n",
       "        text-align: right;\n",
       "    }\n",
       "</style>\n",
       "<table border=\"1\" class=\"dataframe\">\n",
       "  <thead>\n",
       "    <tr style=\"text-align: right;\">\n",
       "      <th></th>\n",
       "      <th>time</th>\n",
       "      <th>high</th>\n",
       "      <th>low</th>\n",
       "      <th>open</th>\n",
       "      <th>volumefrom</th>\n",
       "      <th>volumeto</th>\n",
       "      <th>close</th>\n",
       "    </tr>\n",
       "  </thead>\n",
       "  <tbody>\n",
       "    <tr>\n",
       "      <th>0</th>\n",
       "      <td>1644019200</td>\n",
       "      <td>41954.24</td>\n",
       "      <td>40963.47</td>\n",
       "      <td>41590.34</td>\n",
       "      <td>22244.16</td>\n",
       "      <td>9.237552e+08</td>\n",
       "      <td>41418.21</td>\n",
       "    </tr>\n",
       "    <tr>\n",
       "      <th>1</th>\n",
       "      <td>1644105600</td>\n",
       "      <td>42671.81</td>\n",
       "      <td>41152.05</td>\n",
       "      <td>41418.21</td>\n",
       "      <td>14391.14</td>\n",
       "      <td>6.008485e+08</td>\n",
       "      <td>42412.41</td>\n",
       "    </tr>\n",
       "    <tr>\n",
       "      <th>2</th>\n",
       "      <td>1644192000</td>\n",
       "      <td>44518.11</td>\n",
       "      <td>41689.77</td>\n",
       "      <td>42412.41</td>\n",
       "      <td>42425.21</td>\n",
       "      <td>1.836979e+09</td>\n",
       "      <td>43861.07</td>\n",
       "    </tr>\n",
       "    <tr>\n",
       "      <th>3</th>\n",
       "      <td>1644278400</td>\n",
       "      <td>45483.65</td>\n",
       "      <td>42704.39</td>\n",
       "      <td>43861.07</td>\n",
       "      <td>44964.20</td>\n",
       "      <td>1.972337e+09</td>\n",
       "      <td>44080.12</td>\n",
       "    </tr>\n",
       "    <tr>\n",
       "      <th>4</th>\n",
       "      <td>1644364800</td>\n",
       "      <td>44849.90</td>\n",
       "      <td>43167.21</td>\n",
       "      <td>44080.12</td>\n",
       "      <td>27461.26</td>\n",
       "      <td>1.207982e+09</td>\n",
       "      <td>44422.91</td>\n",
       "    </tr>\n",
       "  </tbody>\n",
       "</table>\n",
       "</div>"
      ],
      "text/plain": [
       "         time      high       low      open  volumefrom      volumeto  \\\n",
       "0  1644019200  41954.24  40963.47  41590.34    22244.16  9.237552e+08   \n",
       "1  1644105600  42671.81  41152.05  41418.21    14391.14  6.008485e+08   \n",
       "2  1644192000  44518.11  41689.77  42412.41    42425.21  1.836979e+09   \n",
       "3  1644278400  45483.65  42704.39  43861.07    44964.20  1.972337e+09   \n",
       "4  1644364800  44849.90  43167.21  44080.12    27461.26  1.207982e+09   \n",
       "\n",
       "      close  \n",
       "0  41418.21  \n",
       "1  42412.41  \n",
       "2  43861.07  \n",
       "3  44080.12  \n",
       "4  44422.91  "
      ]
     },
     "execution_count": 11,
     "metadata": {},
     "output_type": "execute_result"
    }
   ],
   "source": [
    "df.head()"
   ]
  },
  {
   "cell_type": "code",
   "execution_count": 12,
   "metadata": {},
   "outputs": [],
   "source": [
    "df[\"daily_returns\"] = df[\"close\"]-df[\"open\"]"
   ]
  },
  {
   "cell_type": "code",
   "execution_count": 13,
   "metadata": {},
   "outputs": [
    {
     "data": {
      "text/html": [
       "<div>\n",
       "<style scoped>\n",
       "    .dataframe tbody tr th:only-of-type {\n",
       "        vertical-align: middle;\n",
       "    }\n",
       "\n",
       "    .dataframe tbody tr th {\n",
       "        vertical-align: top;\n",
       "    }\n",
       "\n",
       "    .dataframe thead th {\n",
       "        text-align: right;\n",
       "    }\n",
       "</style>\n",
       "<table border=\"1\" class=\"dataframe\">\n",
       "  <thead>\n",
       "    <tr style=\"text-align: right;\">\n",
       "      <th></th>\n",
       "      <th>time</th>\n",
       "      <th>high</th>\n",
       "      <th>low</th>\n",
       "      <th>open</th>\n",
       "      <th>volumefrom</th>\n",
       "      <th>volumeto</th>\n",
       "      <th>close</th>\n",
       "      <th>daily_returns</th>\n",
       "    </tr>\n",
       "  </thead>\n",
       "  <tbody>\n",
       "    <tr>\n",
       "      <th>0</th>\n",
       "      <td>1644019200</td>\n",
       "      <td>41954.24</td>\n",
       "      <td>40963.47</td>\n",
       "      <td>41590.34</td>\n",
       "      <td>22244.16</td>\n",
       "      <td>9.237552e+08</td>\n",
       "      <td>41418.21</td>\n",
       "      <td>-172.13</td>\n",
       "    </tr>\n",
       "    <tr>\n",
       "      <th>1</th>\n",
       "      <td>1644105600</td>\n",
       "      <td>42671.81</td>\n",
       "      <td>41152.05</td>\n",
       "      <td>41418.21</td>\n",
       "      <td>14391.14</td>\n",
       "      <td>6.008485e+08</td>\n",
       "      <td>42412.41</td>\n",
       "      <td>994.20</td>\n",
       "    </tr>\n",
       "    <tr>\n",
       "      <th>2</th>\n",
       "      <td>1644192000</td>\n",
       "      <td>44518.11</td>\n",
       "      <td>41689.77</td>\n",
       "      <td>42412.41</td>\n",
       "      <td>42425.21</td>\n",
       "      <td>1.836979e+09</td>\n",
       "      <td>43861.07</td>\n",
       "      <td>1448.66</td>\n",
       "    </tr>\n",
       "    <tr>\n",
       "      <th>3</th>\n",
       "      <td>1644278400</td>\n",
       "      <td>45483.65</td>\n",
       "      <td>42704.39</td>\n",
       "      <td>43861.07</td>\n",
       "      <td>44964.20</td>\n",
       "      <td>1.972337e+09</td>\n",
       "      <td>44080.12</td>\n",
       "      <td>219.05</td>\n",
       "    </tr>\n",
       "    <tr>\n",
       "      <th>4</th>\n",
       "      <td>1644364800</td>\n",
       "      <td>44849.90</td>\n",
       "      <td>43167.21</td>\n",
       "      <td>44080.12</td>\n",
       "      <td>27461.26</td>\n",
       "      <td>1.207982e+09</td>\n",
       "      <td>44422.91</td>\n",
       "      <td>342.79</td>\n",
       "    </tr>\n",
       "  </tbody>\n",
       "</table>\n",
       "</div>"
      ],
      "text/plain": [
       "         time      high       low      open  volumefrom      volumeto  \\\n",
       "0  1644019200  41954.24  40963.47  41590.34    22244.16  9.237552e+08   \n",
       "1  1644105600  42671.81  41152.05  41418.21    14391.14  6.008485e+08   \n",
       "2  1644192000  44518.11  41689.77  42412.41    42425.21  1.836979e+09   \n",
       "3  1644278400  45483.65  42704.39  43861.07    44964.20  1.972337e+09   \n",
       "4  1644364800  44849.90  43167.21  44080.12    27461.26  1.207982e+09   \n",
       "\n",
       "      close  daily_returns  \n",
       "0  41418.21        -172.13  \n",
       "1  42412.41         994.20  \n",
       "2  43861.07        1448.66  \n",
       "3  44080.12         219.05  \n",
       "4  44422.91         342.79  "
      ]
     },
     "execution_count": 13,
     "metadata": {},
     "output_type": "execute_result"
    }
   ],
   "source": [
    "df.head()"
   ]
  },
  {
   "cell_type": "code",
   "execution_count": 14,
   "metadata": {},
   "outputs": [
    {
     "name": "stdout",
     "output_type": "stream",
     "text": [
      "-3332.019999999997\n"
     ]
    }
   ],
   "source": [
    "total_returns = df[\"daily_returns\"].sum()\n",
    "print(total_returns)"
   ]
  },
  {
   "cell_type": "code",
   "execution_count": 15,
   "metadata": {},
   "outputs": [],
   "source": [
    "#Now we caluclate returns for ETH#"
   ]
  },
  {
   "cell_type": "code",
   "execution_count": 16,
   "metadata": {},
   "outputs": [],
   "source": [
    "url2=\"https://min-api.cryptocompare.com/data/v2/histoday?fsym=ETH&tsym=USD&limit=30\""
   ]
  },
  {
   "cell_type": "code",
   "execution_count": 17,
   "metadata": {},
   "outputs": [],
   "source": [
    "response2 = requests.get(url2, headers={'authorization': 'Apikey{apikey}'})"
   ]
  },
  {
   "cell_type": "code",
   "execution_count": 18,
   "metadata": {},
   "outputs": [],
   "source": [
    "r2 = response2.json()"
   ]
  },
  {
   "cell_type": "code",
   "execution_count": 19,
   "metadata": {},
   "outputs": [],
   "source": [
    "r2 = r2[\"Data\"][\"Data\"]"
   ]
  },
  {
   "cell_type": "code",
   "execution_count": 20,
   "metadata": {},
   "outputs": [],
   "source": [
    "df2 = pd.DataFrame(r2)"
   ]
  },
  {
   "cell_type": "code",
   "execution_count": 21,
   "metadata": {},
   "outputs": [
    {
     "data": {
      "text/html": [
       "<div>\n",
       "<style scoped>\n",
       "    .dataframe tbody tr th:only-of-type {\n",
       "        vertical-align: middle;\n",
       "    }\n",
       "\n",
       "    .dataframe tbody tr th {\n",
       "        vertical-align: top;\n",
       "    }\n",
       "\n",
       "    .dataframe thead th {\n",
       "        text-align: right;\n",
       "    }\n",
       "</style>\n",
       "<table border=\"1\" class=\"dataframe\">\n",
       "  <thead>\n",
       "    <tr style=\"text-align: right;\">\n",
       "      <th></th>\n",
       "      <th>time</th>\n",
       "      <th>high</th>\n",
       "      <th>low</th>\n",
       "      <th>open</th>\n",
       "      <th>volumefrom</th>\n",
       "      <th>volumeto</th>\n",
       "      <th>close</th>\n",
       "      <th>conversionType</th>\n",
       "      <th>conversionSymbol</th>\n",
       "    </tr>\n",
       "  </thead>\n",
       "  <tbody>\n",
       "    <tr>\n",
       "      <th>0</th>\n",
       "      <td>1644019200</td>\n",
       "      <td>3062.95</td>\n",
       "      <td>2962.22</td>\n",
       "      <td>2997.18</td>\n",
       "      <td>255479.72</td>\n",
       "      <td>7.692118e+08</td>\n",
       "      <td>3015.26</td>\n",
       "      <td>direct</td>\n",
       "      <td></td>\n",
       "    </tr>\n",
       "    <tr>\n",
       "      <th>1</th>\n",
       "      <td>1644105600</td>\n",
       "      <td>3075.45</td>\n",
       "      <td>2952.80</td>\n",
       "      <td>3015.26</td>\n",
       "      <td>133595.11</td>\n",
       "      <td>4.020350e+08</td>\n",
       "      <td>3057.68</td>\n",
       "      <td>direct</td>\n",
       "      <td></td>\n",
       "    </tr>\n",
       "    <tr>\n",
       "      <th>2</th>\n",
       "      <td>1644192000</td>\n",
       "      <td>3192.50</td>\n",
       "      <td>2996.04</td>\n",
       "      <td>3057.68</td>\n",
       "      <td>372171.22</td>\n",
       "      <td>1.158531e+09</td>\n",
       "      <td>3141.38</td>\n",
       "      <td>direct</td>\n",
       "      <td></td>\n",
       "    </tr>\n",
       "    <tr>\n",
       "      <th>3</th>\n",
       "      <td>1644278400</td>\n",
       "      <td>3233.58</td>\n",
       "      <td>3028.60</td>\n",
       "      <td>3141.38</td>\n",
       "      <td>360771.09</td>\n",
       "      <td>1.122580e+09</td>\n",
       "      <td>3118.76</td>\n",
       "      <td>direct</td>\n",
       "      <td></td>\n",
       "    </tr>\n",
       "    <tr>\n",
       "      <th>4</th>\n",
       "      <td>1644364800</td>\n",
       "      <td>3273.04</td>\n",
       "      <td>3057.51</td>\n",
       "      <td>3118.76</td>\n",
       "      <td>291438.28</td>\n",
       "      <td>9.246639e+08</td>\n",
       "      <td>3246.72</td>\n",
       "      <td>direct</td>\n",
       "      <td></td>\n",
       "    </tr>\n",
       "    <tr>\n",
       "      <th>5</th>\n",
       "      <td>1644451200</td>\n",
       "      <td>3283.28</td>\n",
       "      <td>3059.58</td>\n",
       "      <td>3246.72</td>\n",
       "      <td>400824.47</td>\n",
       "      <td>1.273705e+09</td>\n",
       "      <td>3074.84</td>\n",
       "      <td>direct</td>\n",
       "      <td></td>\n",
       "    </tr>\n",
       "    <tr>\n",
       "      <th>6</th>\n",
       "      <td>1644537600</td>\n",
       "      <td>3139.99</td>\n",
       "      <td>2880.24</td>\n",
       "      <td>3074.84</td>\n",
       "      <td>446120.24</td>\n",
       "      <td>1.349462e+09</td>\n",
       "      <td>2928.93</td>\n",
       "      <td>direct</td>\n",
       "      <td></td>\n",
       "    </tr>\n",
       "    <tr>\n",
       "      <th>7</th>\n",
       "      <td>1644624000</td>\n",
       "      <td>2986.55</td>\n",
       "      <td>2859.52</td>\n",
       "      <td>2928.93</td>\n",
       "      <td>218079.80</td>\n",
       "      <td>6.364926e+08</td>\n",
       "      <td>2918.34</td>\n",
       "      <td>direct</td>\n",
       "      <td></td>\n",
       "    </tr>\n",
       "    <tr>\n",
       "      <th>8</th>\n",
       "      <td>1644710400</td>\n",
       "      <td>2954.60</td>\n",
       "      <td>2839.03</td>\n",
       "      <td>2918.34</td>\n",
       "      <td>162466.43</td>\n",
       "      <td>4.712447e+08</td>\n",
       "      <td>2872.44</td>\n",
       "      <td>direct</td>\n",
       "      <td></td>\n",
       "    </tr>\n",
       "    <tr>\n",
       "      <th>9</th>\n",
       "      <td>1644796800</td>\n",
       "      <td>2965.85</td>\n",
       "      <td>2832.37</td>\n",
       "      <td>2872.44</td>\n",
       "      <td>310054.68</td>\n",
       "      <td>9.007495e+08</td>\n",
       "      <td>2931.12</td>\n",
       "      <td>direct</td>\n",
       "      <td></td>\n",
       "    </tr>\n",
       "  </tbody>\n",
       "</table>\n",
       "</div>"
      ],
      "text/plain": [
       "         time     high      low     open  volumefrom      volumeto    close  \\\n",
       "0  1644019200  3062.95  2962.22  2997.18   255479.72  7.692118e+08  3015.26   \n",
       "1  1644105600  3075.45  2952.80  3015.26   133595.11  4.020350e+08  3057.68   \n",
       "2  1644192000  3192.50  2996.04  3057.68   372171.22  1.158531e+09  3141.38   \n",
       "3  1644278400  3233.58  3028.60  3141.38   360771.09  1.122580e+09  3118.76   \n",
       "4  1644364800  3273.04  3057.51  3118.76   291438.28  9.246639e+08  3246.72   \n",
       "5  1644451200  3283.28  3059.58  3246.72   400824.47  1.273705e+09  3074.84   \n",
       "6  1644537600  3139.99  2880.24  3074.84   446120.24  1.349462e+09  2928.93   \n",
       "7  1644624000  2986.55  2859.52  2928.93   218079.80  6.364926e+08  2918.34   \n",
       "8  1644710400  2954.60  2839.03  2918.34   162466.43  4.712447e+08  2872.44   \n",
       "9  1644796800  2965.85  2832.37  2872.44   310054.68  9.007495e+08  2931.12   \n",
       "\n",
       "  conversionType conversionSymbol  \n",
       "0         direct                   \n",
       "1         direct                   \n",
       "2         direct                   \n",
       "3         direct                   \n",
       "4         direct                   \n",
       "5         direct                   \n",
       "6         direct                   \n",
       "7         direct                   \n",
       "8         direct                   \n",
       "9         direct                   "
      ]
     },
     "execution_count": 21,
     "metadata": {},
     "output_type": "execute_result"
    }
   ],
   "source": [
    "df2.head(10)"
   ]
  },
  {
   "cell_type": "code",
   "execution_count": 22,
   "metadata": {},
   "outputs": [],
   "source": [
    "df2=df2.iloc[:,:7]"
   ]
  },
  {
   "cell_type": "code",
   "execution_count": 23,
   "metadata": {},
   "outputs": [],
   "source": [
    "df2[\"daily_returns\"] = df2[\"close\"]-df2[\"open\"]"
   ]
  },
  {
   "cell_type": "code",
   "execution_count": 24,
   "metadata": {},
   "outputs": [
    {
     "data": {
      "text/html": [
       "<div>\n",
       "<style scoped>\n",
       "    .dataframe tbody tr th:only-of-type {\n",
       "        vertical-align: middle;\n",
       "    }\n",
       "\n",
       "    .dataframe tbody tr th {\n",
       "        vertical-align: top;\n",
       "    }\n",
       "\n",
       "    .dataframe thead th {\n",
       "        text-align: right;\n",
       "    }\n",
       "</style>\n",
       "<table border=\"1\" class=\"dataframe\">\n",
       "  <thead>\n",
       "    <tr style=\"text-align: right;\">\n",
       "      <th></th>\n",
       "      <th>time</th>\n",
       "      <th>high</th>\n",
       "      <th>low</th>\n",
       "      <th>open</th>\n",
       "      <th>volumefrom</th>\n",
       "      <th>volumeto</th>\n",
       "      <th>close</th>\n",
       "      <th>daily_returns</th>\n",
       "    </tr>\n",
       "  </thead>\n",
       "  <tbody>\n",
       "    <tr>\n",
       "      <th>0</th>\n",
       "      <td>1644019200</td>\n",
       "      <td>3062.95</td>\n",
       "      <td>2962.22</td>\n",
       "      <td>2997.18</td>\n",
       "      <td>255479.72</td>\n",
       "      <td>7.692118e+08</td>\n",
       "      <td>3015.26</td>\n",
       "      <td>18.08</td>\n",
       "    </tr>\n",
       "    <tr>\n",
       "      <th>1</th>\n",
       "      <td>1644105600</td>\n",
       "      <td>3075.45</td>\n",
       "      <td>2952.80</td>\n",
       "      <td>3015.26</td>\n",
       "      <td>133595.11</td>\n",
       "      <td>4.020350e+08</td>\n",
       "      <td>3057.68</td>\n",
       "      <td>42.42</td>\n",
       "    </tr>\n",
       "    <tr>\n",
       "      <th>2</th>\n",
       "      <td>1644192000</td>\n",
       "      <td>3192.50</td>\n",
       "      <td>2996.04</td>\n",
       "      <td>3057.68</td>\n",
       "      <td>372171.22</td>\n",
       "      <td>1.158531e+09</td>\n",
       "      <td>3141.38</td>\n",
       "      <td>83.70</td>\n",
       "    </tr>\n",
       "    <tr>\n",
       "      <th>3</th>\n",
       "      <td>1644278400</td>\n",
       "      <td>3233.58</td>\n",
       "      <td>3028.60</td>\n",
       "      <td>3141.38</td>\n",
       "      <td>360771.09</td>\n",
       "      <td>1.122580e+09</td>\n",
       "      <td>3118.76</td>\n",
       "      <td>-22.62</td>\n",
       "    </tr>\n",
       "    <tr>\n",
       "      <th>4</th>\n",
       "      <td>1644364800</td>\n",
       "      <td>3273.04</td>\n",
       "      <td>3057.51</td>\n",
       "      <td>3118.76</td>\n",
       "      <td>291438.28</td>\n",
       "      <td>9.246639e+08</td>\n",
       "      <td>3246.72</td>\n",
       "      <td>127.96</td>\n",
       "    </tr>\n",
       "  </tbody>\n",
       "</table>\n",
       "</div>"
      ],
      "text/plain": [
       "         time     high      low     open  volumefrom      volumeto    close  \\\n",
       "0  1644019200  3062.95  2962.22  2997.18   255479.72  7.692118e+08  3015.26   \n",
       "1  1644105600  3075.45  2952.80  3015.26   133595.11  4.020350e+08  3057.68   \n",
       "2  1644192000  3192.50  2996.04  3057.68   372171.22  1.158531e+09  3141.38   \n",
       "3  1644278400  3233.58  3028.60  3141.38   360771.09  1.122580e+09  3118.76   \n",
       "4  1644364800  3273.04  3057.51  3118.76   291438.28  9.246639e+08  3246.72   \n",
       "\n",
       "   daily_returns  \n",
       "0          18.08  \n",
       "1          42.42  \n",
       "2          83.70  \n",
       "3         -22.62  \n",
       "4         127.96  "
      ]
     },
     "execution_count": 24,
     "metadata": {},
     "output_type": "execute_result"
    }
   ],
   "source": [
    "df2.head()"
   ]
  },
  {
   "cell_type": "code",
   "execution_count": 25,
   "metadata": {},
   "outputs": [
    {
     "name": "stdout",
     "output_type": "stream",
     "text": [
      "-458.1999999999998\n"
     ]
    }
   ],
   "source": [
    "total_returns2 = df2[\"daily_returns\"].sum()\n",
    "print(total_returns2)"
   ]
  },
  {
   "cell_type": "code",
   "execution_count": 26,
   "metadata": {},
   "outputs": [],
   "source": [
    "returns_btc = df.iloc[:,-1]"
   ]
  },
  {
   "cell_type": "code",
   "execution_count": 27,
   "metadata": {},
   "outputs": [],
   "source": [
    "return_eth = df2.iloc[:,-1]"
   ]
  },
  {
   "cell_type": "code",
   "execution_count": 28,
   "metadata": {},
   "outputs": [
    {
     "data": {
      "image/png": "[encoded data removed]",
      "text/plain": [
       "<Figure size 432x288 with 1 Axes>"
      ]
     },
     "metadata": {
      "needs_background": "light"
     },
     "output_type": "display_data"
    }
   ],
   "source": [
    "p = plt.plot(returns_btc.index, returns_btc.values)"
   ]
  },
  {
   "cell_type": "code",
   "execution_count": 29,
   "metadata": {},
   "outputs": [
    {
     "data": {
      "text/plain": [
       "<BarContainer object of 31 artists>"
      ]
     },
     "execution_count": 29,
     "metadata": {},
     "output_type": "execute_result"
    },
    {
     "data": {
      "image/png": "[encoded data removed]",
      "text/plain": [
       "<Figure size 432x288 with 1 Axes>"
      ]
     },
     "metadata": {
      "needs_background": "light"
     },
     "output_type": "display_data"
    }
   ],
   "source": [
    "x = range(31)\n",
    "ax = plt.subplot(111)\n",
    "ax.bar(x, returns_btc, width=1, color='b')"
   ]
  },
  {
   "cell_type": "code",
   "execution_count": 30,
   "metadata": {},
   "outputs": [
    {
     "data": {
      "text/plain": [
       "-107.48451612903216"
      ]
     },
     "execution_count": 30,
     "metadata": {},
     "output_type": "execute_result"
    }
   ],
   "source": [
    "statistics.mean(returns_btc)"
   ]
  },
  {
   "cell_type": "code",
   "execution_count": 31,
   "metadata": {},
   "outputs": [
    {
     "data": {
      "text/plain": [
       "-169.17000000000553"
      ]
     },
     "execution_count": 31,
     "metadata": {},
     "output_type": "execute_result"
    }
   ],
   "source": [
    "statistics.median(returns_btc)"
   ]
  },
  {
   "cell_type": "code",
   "execution_count": 32,
   "metadata": {},
   "outputs": [
    {
     "data": {
      "text/plain": [
       "1618.7842360628524"
      ]
     },
     "execution_count": 32,
     "metadata": {},
     "output_type": "execute_result"
    }
   ],
   "source": [
    "statistics.stdev(returns_btc)"
   ]
  },
  {
   "cell_type": "code",
   "execution_count": 33,
   "metadata": {},
   "outputs": [],
   "source": [
    "#####"
   ]
  },
  {
   "cell_type": "code",
   "execution_count": 34,
   "metadata": {},
   "outputs": [
    {
     "data": {
      "image/png": "[encoded data removed]",
      "text/plain": [
       "<Figure size 432x288 with 1 Axes>"
      ]
     },
     "metadata": {
      "needs_background": "light"
     },
     "output_type": "display_data"
    }
   ],
   "source": [
    "p = plt.plot(return_eth.index, return_eth.values)"
   ]
  },
  {
   "cell_type": "code",
   "execution_count": 35,
   "metadata": {},
   "outputs": [
    {
     "data": {
      "text/plain": [
       "<BarContainer object of 31 artists>"
      ]
     },
     "execution_count": 35,
     "metadata": {},
     "output_type": "execute_result"
    },
    {
     "data": {
      "image/png": "[encoded data removed]",
      "text/plain": [
       "<Figure size 432x288 with 1 Axes>"
      ]
     },
     "metadata": {
      "needs_background": "light"
     },
     "output_type": "display_data"
    }
   ],
   "source": [
    "x = range(31)\n",
    "ax = plt.subplot(111)\n",
    "ax.bar(x, return_eth, width=1, color='b')"
   ]
  },
  {
   "cell_type": "code",
   "execution_count": 36,
   "metadata": {},
   "outputs": [
    {
     "data": {
      "text/plain": [
       "-14.780645161290316"
      ]
     },
     "execution_count": 36,
     "metadata": {},
     "output_type": "execute_result"
    }
   ],
   "source": [
    "statistics.mean(return_eth)"
   ]
  },
  {
   "cell_type": "code",
   "execution_count": 37,
   "metadata": {},
   "outputs": [
    {
     "data": {
      "text/plain": [
       "-16.2199999999998"
      ]
     },
     "execution_count": 37,
     "metadata": {},
     "output_type": "execute_result"
    }
   ],
   "source": [
    "statistics.median(return_eth)"
   ]
  },
  {
   "cell_type": "code",
   "execution_count": 38,
   "metadata": {},
   "outputs": [
    {
     "data": {
      "text/plain": [
       "124.63486232285311"
      ]
     },
     "execution_count": 38,
     "metadata": {},
     "output_type": "execute_result"
    }
   ],
   "source": [
    "statistics.stdev(return_eth)"
   ]
  },
  {
   "cell_type": "code",
   "execution_count": null,
   "metadata": {},
   "outputs": [],
   "source": []
  },
  {
   "cell_type": "code",
   "execution_count": null,
   "metadata": {},
   "outputs": [],
   "source": []
  },
  {
   "cell_type": "code",
   "execution_count": null,
   "metadata": {},
   "outputs": [],
   "source": []
  },
  {
   "cell_type": "code",
   "execution_count": null,
   "metadata": {},
   "outputs": [],
   "source": []
  }
 ],
 "metadata": {
  "kernelspec": {
   "display_name": "Python 3",
   "language": "python",
   "name": "python3"
  },
  "language_info": {
   "codemirror_mode": {
    "name": "ipython",
    "version": 3
   },
   "file_extension": ".py",
   "mimetype": "text/x-python",
   "name": "python",
   "nbconvert_exporter": "python",
   "pygments_lexer": "ipython3",
   "version": "3.8.3"
  }
 },
 "nbformat": 4,
 "nbformat_minor": 4
}
